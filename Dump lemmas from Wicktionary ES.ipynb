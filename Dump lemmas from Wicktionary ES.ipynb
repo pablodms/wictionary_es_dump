{
 "cells": [
  {
   "cell_type": "markdown",
   "metadata": {},
   "source": [
    "# Dump lemmas from Wicktionary ES"
   ]
  },
  {
   "cell_type": "markdown",
   "metadata": {},
   "source": [
    "This notebook will try to parse xml downloaded from Wicktionary in order to generate lemmatization rules for Spanish language for Spacy."
   ]
  },
  {
   "cell_type": "code",
   "execution_count": 1,
   "metadata": {},
   "outputs": [],
   "source": [
    "from lxml import etree\n",
    "import re\n",
    "import json"
   ]
  },
  {
   "cell_type": "markdown",
   "metadata": {},
   "source": [
    "Regular expressions which will be used:"
   ]
  },
  {
   "cell_type": "code",
   "execution_count": 2,
   "metadata": {},
   "outputs": [],
   "source": [
    "category_regex = re.compile(r\"== ?\\{\\{([^}]+)\\}\\} ?==\") # Matches nouns, verbs, adverbs categories\n",
    "multiple_lang_regex = re.compile(r\"\\{\\{([a-zA-Z]{2})(?:\\|\\||-)[a-zA-Z0-9]{1,2}\\}\\}\") # Matches language tags like {{ES||1}}, {{ES-EN}}\n",
    "lengua_regex = re.compile(r\"== ?{{lengua\\|([^}]+)}} ?==\") # Matches language tags like == {{lengua|es}} ==\n",
    "acception_regex = re.compile(r\"\\: ?{{([^}]+)}}\") # Matches variations from base, like plurals or verb conjugations"
   ]
  },
  {
   "cell_type": "markdown",
   "metadata": {},
   "source": [
    "Parse [xml file](https://dumps.wikimedia.org/eswiktionary/latest/) with wicktionary content:"
   ]
  },
  {
   "cell_type": "code",
   "execution_count": 3,
   "metadata": {},
   "outputs": [],
   "source": [
    "tree = etree.parse('eswiktionary-latest-pages-articles.xml')\n",
    "root = tree.getroot()"
   ]
  },
  {
   "cell_type": "markdown",
   "metadata": {},
   "source": [
    "All tags will be accesible using the following namespace:"
   ]
  },
  {
   "cell_type": "code",
   "execution_count": 4,
   "metadata": {},
   "outputs": [
    {
     "data": {
      "text/plain": [
       "'{http://www.mediawiki.org/xml/export-0.10/}'"
      ]
     },
     "execution_count": 4,
     "metadata": {},
     "output_type": "execute_result"
    }
   ],
   "source": [
    "NS = \"{%s}\" % root.nsmap.get(None)\n",
    "NS"
   ]
  },
  {
   "cell_type": "markdown",
   "metadata": {},
   "source": [
    "This function will extract basic forms and variations from text within a language:"
   ]
  },
  {
   "cell_type": "code",
   "execution_count": 5,
   "metadata": {},
   "outputs": [],
   "source": [
    "def process_lang(text):\n",
    "    results = []\n",
    "    categories = category_regex.findall(text)\n",
    "    for category in categories:\n",
    "        results.append(category)\n",
    "    acceptions = acception_regex.findall(text)\n",
    "    for acception in acceptions:\n",
    "        results.append(acception)\n",
    "    return results"
   ]
  },
  {
   "cell_type": "markdown",
   "metadata": {},
   "source": [
    "This function will parse text content looking for different langs and extracting only the targeted lang:"
   ]
  },
  {
   "cell_type": "code",
   "execution_count": 6,
   "metadata": {},
   "outputs": [],
   "source": [
    "def iterate_languages(text, regex, target_lang):\n",
    "    match = regex.search(text)\n",
    "    while (match):\n",
    "        start = match.end(0)\n",
    "        cut = text[start:]\n",
    "        next_match = regex.search(cut)\n",
    "        language = match[1].lower()\n",
    "        end = next_match.start(0) if next_match else len(cut)\n",
    "        if (language == target_lang):\n",
    "            return process_lang(cut[:end])\n",
    "        text = cut[end:]\n",
    "        match = regex.search(text)\n",
    "    return []    "
   ]
  },
  {
   "cell_type": "markdown",
   "metadata": {},
   "source": [
    "This function checks which kind of language tag the current document is using and processes its content:"
   ]
  },
  {
   "cell_type": "code",
   "execution_count": 7,
   "metadata": {},
   "outputs": [],
   "source": [
    "def process_text(text, target_lang):\n",
    "    \n",
    "    lengua_match = lengua_regex.search(text)\n",
    "    if (lengua_match):\n",
    "        return iterate_languages(text, lengua_regex, target_lang)\n",
    "    multiple_lang_match = multiple_lang_regex.search(text)\n",
    "    if (multiple_lang_match):\n",
    "        return iterate_languages(text, multiple_lang_regex, target_lang)\n",
    "    return []\n",
    "    "
   ]
  },
  {
   "cell_type": "markdown",
   "metadata": {},
   "source": [
    "This function will parse the entire xml dump extracting useful terms:"
   ]
  },
  {
   "cell_type": "code",
   "execution_count": 8,
   "metadata": {},
   "outputs": [],
   "source": [
    "results = {}\n",
    "for page in root.findall(NS+'page'):\n",
    "    titulo = page.find(NS+'title').text\n",
    "    # These page entries are useless\n",
    "    if (titulo.startswith('MediaWiki:') or \n",
    "       titulo.startswith('Plantilla:') or \n",
    "       titulo.startswith('Wikcionario:') or\n",
    "       titulo.startswith('Archivo:') or\n",
    "       titulo.startswith('Categoría:') or \n",
    "       titulo.startswith('Módulo:') or \n",
    "       titulo.startswith('Apéndice:')):\n",
    "        continue\n",
    "\n",
    "    revision = page.find(NS+'revision')\n",
    "    contenido = revision.find(NS+'text')\n",
    "    result = process_text(contenido.text, 'es')\n",
    "    if (result != []):\n",
    "        results[titulo] = result\n",
    "    \n",
    "    "
   ]
  },
  {
   "cell_type": "markdown",
   "metadata": {},
   "source": [
    "Get different kind of terms extracted from XML:"
   ]
  },
  {
   "cell_type": "code",
   "execution_count": 9,
   "metadata": {},
   "outputs": [
    {
     "data": {
      "text/plain": [
       "{'AFI',\n",
       " 'Aeronáutica',\n",
       " 'América',\n",
       " 'Andalucía',\n",
       " 'Argentina',\n",
       " 'Arqueología',\n",
       " 'Arquitectura',\n",
       " 'Arte',\n",
       " 'Cantabria',\n",
       " 'Centroamérica',\n",
       " 'Chile',\n",
       " 'Costa Rica',\n",
       " 'DLE',\n",
       " 'DRAE',\n",
       " 'Ecuador',\n",
       " 'El Salvador',\n",
       " 'España',\n",
       " 'Geometría',\n",
       " 'Honduras',\n",
       " 'Matemáticas',\n",
       " 'Milicia',\n",
       " 'Mitología',\n",
       " 'México',\n",
       " 'Náutica',\n",
       " 'Ocupaciones',\n",
       " 'Perspective slope',\n",
       " 'Perú',\n",
       " 'Química',\n",
       " 'Tauromaquia',\n",
       " 'Telecomunicaciones',\n",
       " 'Venezuela',\n",
       " 'Zoología',\n",
       " 'abreviatura',\n",
       " 'adjetivo',\n",
       " 'adjetivo cardinal',\n",
       " 'adjetivo de padecimiento',\n",
       " 'adjetivo de sustantivo',\n",
       " 'adjetivo de verbo',\n",
       " 'adjetivo demostrativo',\n",
       " 'adjetivo indefinido',\n",
       " 'adjetivo ordinal',\n",
       " 'adjetivo posesivo',\n",
       " 'adjetivo_de_sustantivo',\n",
       " 'adverbio',\n",
       " 'adverbio comparativo',\n",
       " 'adverbio de adjetivo',\n",
       " 'adverbio de afirmación',\n",
       " 'adverbio de cantidad',\n",
       " 'adverbio de cantidad ',\n",
       " 'adverbio de duda',\n",
       " 'adverbio de lugar',\n",
       " 'adverbio de modo',\n",
       " 'adverbio de negación',\n",
       " 'adverbio de orden',\n",
       " 'adverbio de sustantivo',\n",
       " 'adverbio de tiempo',\n",
       " 'adverbio interrogativo',\n",
       " 'adverbio relativo',\n",
       " 'alimentos',\n",
       " 'anticuado',\n",
       " 'antiguo',\n",
       " 'antropónimo femenino',\n",
       " 'antropónimo masculino',\n",
       " 'apellido',\n",
       " 'arcaico',\n",
       " 'armas',\n",
       " 'artículo',\n",
       " 'artículo determinado',\n",
       " 'artículo indeterminado',\n",
       " 'audio',\n",
       " 'aumentativo',\n",
       " 'biogenesis',\n",
       " 'cita libro',\n",
       " 'cita publicación',\n",
       " 'cita requerida',\n",
       " 'coloquial',\n",
       " 'comparativo',\n",
       " 'conjunción',\n",
       " 'contexto',\n",
       " 'contracción',\n",
       " 'coord',\n",
       " 'definición imprecisa',\n",
       " 'definición impropia',\n",
       " 'derecho',\n",
       " 'derivad',\n",
       " 'despectivo',\n",
       " 'desusado',\n",
       " 'diminutivo',\n",
       " 'dígrafo',\n",
       " 'ejemplo',\n",
       " 'ejemplos google',\n",
       " 'enclítico',\n",
       " 'etimología',\n",
       " 'etimología2',\n",
       " 'f.adj2',\n",
       " 'f.s.p',\n",
       " 'f.v',\n",
       " 'familiar',\n",
       " 'figurado',\n",
       " 'forma',\n",
       " 'forma adjetivo',\n",
       " 'forma adjetivo 2',\n",
       " 'forma diminutivo',\n",
       " 'forma participio',\n",
       " 'forma pronombre',\n",
       " 'forma sufijo',\n",
       " 'forma sustantivo',\n",
       " 'forma sustantivo ',\n",
       " 'forma sustantivo plural',\n",
       " 'forma sustantivo plural ',\n",
       " 'forma verbal',\n",
       " 'forma verbo',\n",
       " 'fv-en',\n",
       " 'fútbol',\n",
       " 'gentilicio',\n",
       " 'gentilicio1',\n",
       " 'gentilicio2',\n",
       " 'gentilicio3',\n",
       " 'geología',\n",
       " 'geometría',\n",
       " 'germanía',\n",
       " 'gerundio',\n",
       " 'grafía',\n",
       " 'grafía informal',\n",
       " 'grafía obsoleta',\n",
       " 'grafía rara',\n",
       " 'hazing',\n",
       " 'imperativo latín',\n",
       " 'impropia',\n",
       " 'infinitivo',\n",
       " 'inflect.es.sust.reg',\n",
       " 'interjección',\n",
       " 'kk de humanos ',\n",
       " 'l',\n",
       " 'l*',\n",
       " 'l+',\n",
       " 'letra',\n",
       " 'lingüística',\n",
       " 'locución',\n",
       " 'locución adjetiva',\n",
       " 'locución adverbial',\n",
       " 'locución conjuntiva',\n",
       " 'locución interjectiva',\n",
       " 'locución preposicional',\n",
       " 'locución prepositiva',\n",
       " 'locución sustantiva',\n",
       " 'locución verbal',\n",
       " 'marcar sin referencias',\n",
       " 'matemáticas',\n",
       " 'medicina',\n",
       " 'minería',\n",
       " 'nl',\n",
       " 'no',\n",
       " 'náutica',\n",
       " 'ocultismo',\n",
       " 'onomatopeya',\n",
       " 'participio',\n",
       " 'plantas',\n",
       " 'plm',\n",
       " 'plural',\n",
       " 'política',\n",
       " 'poético',\n",
       " 'prefijo',\n",
       " 'preposición',\n",
       " 'preposición conjugada',\n",
       " 'pron-graf',\n",
       " 'pronombre',\n",
       " 'pronombre demostrativo',\n",
       " 'pronombre indefinido',\n",
       " 'pronombre interrogativo',\n",
       " 'pronombre personal',\n",
       " 'pronombre posesivo',\n",
       " 'pronombre relativo',\n",
       " 'pronunciación',\n",
       " 'química',\n",
       " 'redirección suave',\n",
       " 'refrán',\n",
       " 'relacionado',\n",
       " 'religión',\n",
       " 'sigla',\n",
       " 'soliombra',\n",
       " 'sufijo',\n",
       " 'sufijo flexivo',\n",
       " 'superlativo',\n",
       " 'sustantivo',\n",
       " 'sustantivo  femenino',\n",
       " 'sustantivo ambiguo',\n",
       " 'sustantivo de adjetivo',\n",
       " 'sustantivo de verbo',\n",
       " 'sustantivo femenino',\n",
       " 'sustantivo femenino y masculino',\n",
       " 'sustantivo masculino',\n",
       " 'sustantivo masculino y femenino',\n",
       " 'sustantivo propio',\n",
       " 'símbolo',\n",
       " 't',\n",
       " 't+',\n",
       " 't-needed',\n",
       " 'trad',\n",
       " 'trad2',\n",
       " 'ucf',\n",
       " 'uso',\n",
       " 'utcs',\n",
       " 'utcsm',\n",
       " 'variante',\n",
       " 'variante informal',\n",
       " 'variante obsoleta',\n",
       " 'verbo',\n",
       " 'verbo auxiliar',\n",
       " 'verbo impersonal',\n",
       " 'verbo intransitivo',\n",
       " 'verbo modal',\n",
       " 'verbo pronominal',\n",
       " 'verbo transitivo',\n",
       " 'wikisauro',\n",
       " 'wikisource',\n",
       " '{grafía'}"
      ]
     },
     "metadata": {},
     "output_type": "display_data"
    }
   ],
   "source": [
    "types = set()\n",
    "for values in results.values():\n",
    "    for value in values:\n",
    "        types.add(value.split('|')[0])\n",
    "display(types)\n"
   ]
  },
  {
   "cell_type": "markdown",
   "metadata": {},
   "source": [
    "Here we set POS tags to term categories:"
   ]
  },
  {
   "cell_type": "code",
   "execution_count": 10,
   "metadata": {},
   "outputs": [],
   "source": [
    "derivative_adjective_tags = [\n",
    "    'f.adj2',\n",
    "    'forma adjetivo', \n",
    "    'forma adjetivo 2',\n",
    "    'superlativo',\n",
    "    'forma participio'\n",
    "]\n",
    "\n",
    "derivative_pron_tags = [\n",
    "     'forma pronombre',\n",
    "]   \n",
    "\n",
    "derivative_noun_tags = [\n",
    "    'f.s.p',\n",
    "    'forma diminutivo',\n",
    "    'forma sustantivo',\n",
    "    'forma sustantivo plural',\n",
    "    'forma_sustantivo plural ',\n",
    "    'plural',\n",
    "    'forma participio',\n",
    "    'forma adjetivo',\n",
    "    'forma adjetivo 2',\n",
    "    'f.adj2'\n",
    "                       ]\n",
    "derivative_verb_tags = [\n",
    "    'gerundio', \n",
    "    'participio', \n",
    "    'forma verbo',\n",
    "    'f.v'\n",
    "]\n",
    "\n",
    "derivative_adverb_tags = [\n",
    "    'adverbio de sustantivo',\n",
    "    'adverbio de adjetivo'\n",
    "]"
   ]
  },
  {
   "cell_type": "markdown",
   "metadata": {},
   "source": [
    "Some associations _key_ : _value_ are transitive, so the entry _value_ : _other_ may exist. This function assigns to the entry _key_ the final value _other_:"
   ]
  },
  {
   "cell_type": "code",
   "execution_count": 11,
   "metadata": {},
   "outputs": [],
   "source": [
    "def resolve_derived_terms(dictionary):\n",
    "    for key, value in dictionary.items():\n",
    "        next_value = dictionary.get(value,None)\n",
    "        while next_value and next_value != value:\n",
    "            value = next_value\n",
    "            next_value = dictionary.get(next_value, None)\n",
    "        dictionary[key] = value"
   ]
  },
  {
   "cell_type": "markdown",
   "metadata": {},
   "source": [
    "Build list of exceptions for adjectives, pronouns, nouns, verbs and adverbs:"
   ]
  },
  {
   "cell_type": "code",
   "execution_count": 12,
   "metadata": {
    "scrolled": true
   },
   "outputs": [],
   "source": [
    "adjectives_irreg = {}\n",
    "pronouns_irreg = {}\n",
    "nouns_irreg = {}\n",
    "verbs_irreg = {}\n",
    "adverbs_irreg = {}\n",
    "\n",
    "is_valid_word_regex = re.compile('^[\\w-]+$') # Allow dashes and alpha chars in words\n",
    "\n",
    "for key, values in results.items():\n",
    "    if (\" \" not in key):\n",
    "        is_noun = False\n",
    "        is_adjective = False\n",
    "        is_adjective_form = False\n",
    "        for value in values:\n",
    "            tokens = value.split('|')\n",
    "            # Check if considered term is a pure Noun\n",
    "            if (tokens[0].startswith('sustantivo')):\n",
    "                    is_noun = True\n",
    "                    \n",
    "            if (len(tokens) > 1):\n",
    "                category = None\n",
    "                term = None\n",
    "                form = tokens[0] == 'forma'\n",
    "                \n",
    "                for token in tokens[1:]:\n",
    "                    token = token.strip() # Remove leading and ending whitespaces\n",
    "                    if ('tipo=' in token):\n",
    "                        category = token.split('=')[1]\n",
    "                    elif (is_valid_word_regex.match(token)):\n",
    "                        term = token\n",
    "                        break\n",
    "                \n",
    "                if not term:\n",
    "                    continue\n",
    "                    \n",
    "                if ((form and category == 'adjetivo') or tokens[0] in derivative_adjective_tags):\n",
    "                    is_adjective_form = True\n",
    "                    adjectives_irreg[key] = term\n",
    "                if ((form and category == 'pronombre') or tokens[0] in derivative_pron_tags):\n",
    "                    pronouns_irreg[key] = term\n",
    "                if ((form and category == 'sustantivo') or tokens[0] in derivative_noun_tags):\n",
    "                    nouns_irreg[key] = term\n",
    "                if ((form and category == 'verbo') or tokens[0] in derivative_verb_tags):\n",
    "                    verbs_irreg[key] = term\n",
    "                if ((form and category == 'adverbio') or tokens[0] in derivative_adverb_tags):\n",
    "                    adverbs_irreg[key] = term\n",
    "        \n",
    "        # Prefer noun forms over adjective forms in noun exceptions\n",
    "        if is_noun and is_adjective_form and key in nouns_irreg: \n",
    "            del nouns_irreg[key]\n",
    "            "
   ]
  },
  {
   "cell_type": "markdown",
   "metadata": {},
   "source": [
    "In Wicktionary, some adjective forms can also be a noun, but this is not reported. \n",
    "\n",
    "For example in: *Los pobres vivían en la calle.* \n",
    "    \n",
    "The word \"pobres\" is an adjective form which is acting as a noun. This is why adjective forms are included in noun categories."
   ]
  },
  {
   "cell_type": "markdown",
   "metadata": {},
   "source": [
    "However, some adjective forms are also valid nouns. Here are some examples:\n",
    "\n",
    "* \"colina\" can be a noun (hill in English) and also the feminine of the adjetive \"colín\", said of an animal whose tail has been cut.\n",
    "* \"trucha\" can be a noun (fish) and also the femenine of the adjective \"trucho\" which means false or fraudulent in Argentina and Uruguay\n",
    "\n",
    "In these cases we delete the adjective form from our list of exceptions, giving precedence to the noun."
   ]
  },
  {
   "cell_type": "markdown",
   "metadata": {},
   "source": [
    "Manual fixing of wrong terms:"
   ]
  },
  {
   "cell_type": "code",
   "execution_count": 13,
   "metadata": {},
   "outputs": [
    {
     "data": {
      "text/plain": [
       "'ulterior'"
      ]
     },
     "execution_count": 13,
     "metadata": {},
     "output_type": "execute_result"
    }
   ],
   "source": [
    "# Singular form of soldados is 'kk' according to Wikctionary -> This is not correct\n",
    "nouns_irreg['soldados'] = 'soldado'\n",
    "# Último is not a derived form of 'ulterior' \n",
    "adjectives_irreg.pop('último', None)"
   ]
  },
  {
   "cell_type": "markdown",
   "metadata": {},
   "source": [
    "Resolve transitive derivations:"
   ]
  },
  {
   "cell_type": "code",
   "execution_count": 14,
   "metadata": {},
   "outputs": [],
   "source": [
    "resolve_derived_terms(adjectives_irreg)\n",
    "resolve_derived_terms(pronouns_irreg)\n",
    "resolve_derived_terms(verbs_irreg)\n",
    "resolve_derived_terms(nouns_irreg)\n",
    "resolve_derived_terms(adverbs_irreg)"
   ]
  },
  {
   "cell_type": "markdown",
   "metadata": {},
   "source": [
    "Cast dictionary values from string to list:"
   ]
  },
  {
   "cell_type": "code",
   "execution_count": 15,
   "metadata": {},
   "outputs": [],
   "source": [
    "adjectives_irreg = {key: [value] for key, value in adjectives_irreg.items()} \n",
    "pronouns_irreg = {key: [value] for key, value in pronouns_irreg.items()} \n",
    "verbs_irreg = {key: [value] for key, value in verbs_irreg.items()} \n",
    "nouns_irreg = {key: [value] for key, value in nouns_irreg.items()} \n",
    "adverbs_irreg = {key: [value] for key, value in adverbs_irreg.items()} "
   ]
  },
  {
   "cell_type": "markdown",
   "metadata": {},
   "source": [
    "Generate py files with exceptions:"
   ]
  },
  {
   "cell_type": "code",
   "execution_count": 16,
   "metadata": {
    "scrolled": true
   },
   "outputs": [],
   "source": [
    "file = \"lemma_exc.json\"\n",
    "content = {\n",
    "    'adj': adjectives_irreg,\n",
    "    'adverb': adverbs_irreg,\n",
    "    'noun': nouns_irreg,\n",
    "    'verb': verbs_irreg,\n",
    "    'pron': pronouns_irreg,\n",
    "    'det': {\n",
    "        \"los\": [\"el\"],\n",
    "        \"unos\": [\"un\"],\n",
    "        \"estos\": [\"este\"],\n",
    "        \"esos\": [\"ese\"],\n",
    "        \"aquellos\": [\"aquel\"],\n",
    "        \"alguno\": [\"algún\"],\n",
    "        \"varios\": [\"varios\"],\n",
    "        \"muchísimo\": [\"mucho\"],\n",
    "        \"muchísima\": [\"mucha\"],\n",
    "        \"muchísimos\": [\"mucho\"],\n",
    "        \"muchísimas\": [\"mucha\"],\n",
    "    }\n",
    "}\n",
    "\n",
    "with open(file, 'w', encoding='utf-8') as destination:\n",
    "    json.dump(content, destination, sort_keys = True, indent = True, ensure_ascii=False)    "
   ]
  },
  {
   "cell_type": "markdown",
   "metadata": {},
   "source": [
    "Compare loaded lemmas agains LOOKUP table in spacy:"
   ]
  },
  {
   "cell_type": "code",
   "execution_count": 17,
   "metadata": {
    "scrolled": true
   },
   "outputs": [
    {
     "name": "stdout",
     "output_type": "stream",
     "text": [
      "Lemmas in LOOKUP table which have not been loaded: 56674\n",
      "Lemmas loaded which are not in LOOKUP table: 377509\n",
      "Number of lemmas in LOOKUP: 491547\n",
      "Number of lemmas loaded: 812382\n"
     ]
    }
   ],
   "source": [
    "import json\n",
    "import pkg_resources\n",
    "\n",
    "with pkg_resources.resource_stream('spacy.lang.es.lemmatizer', 'lemma_lookup.json') as infile:\n",
    "    LOOKUP = json.load(infile)\n",
    "\n",
    "set_results = set(results.keys())\n",
    "set_look = set(LOOKUP.keys())\n",
    "print(\"Lemmas in LOOKUP table which have not been loaded:\", len(set_look - set_results))\n",
    "print(\"Lemmas loaded which are not in LOOKUP table:\", len(set_results - set_look))\n",
    "print(\"Number of lemmas in LOOKUP:\", len(set_look))\n",
    "print(\"Number of lemmas loaded:\",len(set_results))\n",
    "#print(\"Lemmas loaded which are not in LOOKUP table:\\n\", set_look - set_results)"
   ]
  }
 ],
 "metadata": {
  "kernelspec": {
   "display_name": "Python 3",
   "language": "python",
   "name": "python3"
  },
  "language_info": {
   "codemirror_mode": {
    "name": "ipython",
    "version": 3
   },
   "file_extension": ".py",
   "mimetype": "text/x-python",
   "name": "python",
   "nbconvert_exporter": "python",
   "pygments_lexer": "ipython3",
   "version": "3.6.5"
  }
 },
 "nbformat": 4,
 "nbformat_minor": 2
}
